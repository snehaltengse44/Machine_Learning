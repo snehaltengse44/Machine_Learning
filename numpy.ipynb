{
 "cells": [
  {
   "cell_type": "code",
   "execution_count": null,
   "id": "c98412e3-8d04-4223-8bf6-c46fd2b23ec1",
   "metadata": {},
   "outputs": [],
   "source": [
    "pip install matplotlib"
   ]
  },
  {
   "cell_type": "code",
   "execution_count": 6,
   "id": "932dd911-9373-4f01-9a8a-3776ddbca60c",
   "metadata": {},
   "outputs": [],
   "source": [
    "import numpy as np"
   ]
  },
  {
   "cell_type": "code",
   "execution_count": 12,
   "id": "b20b3db2-65cd-48b0-8b1b-fa500e342615",
   "metadata": {},
   "outputs": [
    {
     "name": "stdout",
     "output_type": "stream",
     "text": [
      "[  1  34 667   5]\n"
     ]
    }
   ],
   "source": [
    "arr1=np.array([1,34,667,5])\n",
    "print(arr1)"
   ]
  },
  {
   "cell_type": "code",
   "execution_count": 14,
   "id": "0363fe8d-f2bf-428f-9453-e71e64f53c92",
   "metadata": {},
   "outputs": [
    {
     "data": {
      "text/plain": [
       "array([[[ 1,  2],\n",
       "        [ 3,  4],\n",
       "        [ 5,  6],\n",
       "        [ 7,  8],\n",
       "        [ 9, 10],\n",
       "        [11, 12]]])"
      ]
     },
     "execution_count": 14,
     "metadata": {},
     "output_type": "execute_result"
    }
   ],
   "source": [
    "arr10=np.array([[[1,2],[3,4],[5,6],[7,8],[9,10],[11,12]]])\n",
    "arr10"
   ]
  },
  {
   "cell_type": "code",
   "execution_count": 16,
   "id": "f02b7e83-713e-41c2-ab16-89fa8128b96c",
   "metadata": {},
   "outputs": [
    {
     "data": {
      "text/plain": [
       "(1, 6, 2)"
      ]
     },
     "execution_count": 16,
     "metadata": {},
     "output_type": "execute_result"
    }
   ],
   "source": [
    "arr10.shape"
   ]
  },
  {
   "cell_type": "code",
   "execution_count": 22,
   "id": "e91d943b-f08c-4441-a039-e3d33d399172",
   "metadata": {},
   "outputs": [
    {
     "data": {
      "text/plain": [
       "array([[[ 1,  2,  3,  5],\n",
       "        [ 4,  5,  6,  7],\n",
       "        [ 8,  9, 10, 11]],\n",
       "\n",
       "       [[11, 33, 44, 55],\n",
       "        [32, 23, 23, 23],\n",
       "        [32,  4,  4, 53]]])"
      ]
     },
     "execution_count": 22,
     "metadata": {},
     "output_type": "execute_result"
    }
   ],
   "source": [
    "arr11=np.array([[[1,2,3,5],[4,5,6,7],[8,9,10,11]],[[11,33,44,55],[32,23,23,23],[32,4,4,53]]])\n",
    "arr11\n"
   ]
  },
  {
   "cell_type": "code",
   "execution_count": 34,
   "id": "b582e78d-3b8f-47bc-b04e-f0cd7b94a476",
   "metadata": {},
   "outputs": [
    {
     "data": {
      "text/plain": [
       "array([[[ 1,  2,  3,  5],\n",
       "        [ 4,  5,  6,  7],\n",
       "        [ 8,  9, 10, 11]],\n",
       "\n",
       "       [[11, 33, 44, 55],\n",
       "        [32, 23, 23, 23],\n",
       "        [32,  4,  4, 53]]])"
      ]
     },
     "execution_count": 34,
     "metadata": {},
     "output_type": "execute_result"
    }
   ],
   "source": [
    "arr12=arr11.copy()\n",
    "arr12"
   ]
  },
  {
   "cell_type": "raw",
   "id": "8eecd2dd-1c09-47d7-be56-73d5cd67d503",
   "metadata": {},
   "source": [
    "arr13=arr(4)\n",
    "arr13"
   ]
  },
  {
   "cell_type": "raw",
   "id": "5f400f42-37fe-4066-b7b8-e6f9809c2157",
   "metadata": {},
   "source": []
  },
  {
   "cell_type": "code",
   "execution_count": 48,
   "id": "30e8e0ff-3cab-4f12-9402-c94376f6f112",
   "metadata": {},
   "outputs": [
    {
     "data": {
      "text/plain": [
       "array([[0., 0., 0., 0., 0.],\n",
       "       [0., 0., 0., 0., 0.],\n",
       "       [0., 0., 0., 0., 0.],\n",
       "       [0., 0., 0., 0., 0.]])"
      ]
     },
     "execution_count": 48,
     "metadata": {},
     "output_type": "execute_result"
    }
   ],
   "source": [
    "arr13=np.zeros((4,5))\n",
    "arr13"
   ]
  },
  {
   "cell_type": "code",
   "execution_count": 54,
   "id": "1e5179a7-212d-48f3-abc4-879e6cdb5da7",
   "metadata": {},
   "outputs": [
    {
     "data": {
      "text/plain": [
       "array([[1., 1., 1.],\n",
       "       [1., 1., 1.]])"
      ]
     },
     "execution_count": 54,
     "metadata": {},
     "output_type": "execute_result"
    }
   ],
   "source": [
    "arr14=np.ones((2,3))\n",
    "arr14"
   ]
  },
  {
   "cell_type": "code",
   "execution_count": 60,
   "id": "0ebbee9f-61b1-483d-a750-bc3493c9de65",
   "metadata": {},
   "outputs": [],
   "source": [
    "#Atrributes"
   ]
  },
  {
   "cell_type": "code",
   "execution_count": 56,
   "id": "f6e7878d-0784-40ab-9afa-a43cb96ba765",
   "metadata": {},
   "outputs": [
    {
     "data": {
      "text/plain": [
       "(1, 6, 2)"
      ]
     },
     "execution_count": 56,
     "metadata": {},
     "output_type": "execute_result"
    }
   ],
   "source": [
    "arr10.shape"
   ]
  },
  {
   "cell_type": "code",
   "execution_count": 66,
   "id": "efa601a1-6e36-4b65-b539-47afbce5c3ba",
   "metadata": {},
   "outputs": [
    {
     "data": {
      "text/plain": [
       "array([[[ 1,  2],\n",
       "        [ 3,  4],\n",
       "        [ 5,  6],\n",
       "        [ 7,  8],\n",
       "        [ 9, 10],\n",
       "        [11, 12]]])"
      ]
     },
     "execution_count": 66,
     "metadata": {},
     "output_type": "execute_result"
    }
   ],
   "source": [
    "arr10"
   ]
  },
  {
   "cell_type": "code",
   "execution_count": 62,
   "id": "883b58a1-90db-4f88-abd1-392613d4de82",
   "metadata": {},
   "outputs": [
    {
     "data": {
      "text/plain": [
       "3"
      ]
     },
     "execution_count": 62,
     "metadata": {},
     "output_type": "execute_result"
    }
   ],
   "source": [
    "arr10.ndim"
   ]
  },
  {
   "cell_type": "code",
   "execution_count": 64,
   "id": "cef73ef2-4234-4e68-b3ce-91d3a7e3c288",
   "metadata": {},
   "outputs": [
    {
     "data": {
      "text/plain": [
       "12"
      ]
     },
     "execution_count": 64,
     "metadata": {},
     "output_type": "execute_result"
    }
   ],
   "source": [
    "arr10.size\n"
   ]
  },
  {
   "cell_type": "code",
   "execution_count": 70,
   "id": "7c4953e4-1eb6-4d38-a02f-64352428056f",
   "metadata": {},
   "outputs": [
    {
     "data": {
      "text/plain": [
       "4"
      ]
     },
     "execution_count": 70,
     "metadata": {},
     "output_type": "execute_result"
    }
   ],
   "source": [
    "arr10.itemsize #itemsize is teh memory occupied by the variable"
   ]
  },
  {
   "cell_type": "code",
   "execution_count": 78,
   "id": "e6e90624-2a89-47ba-93d8-8194bf3cbdf3",
   "metadata": {},
   "outputs": [
    {
     "data": {
      "text/plain": [
       "dtype('int32')"
      ]
     },
     "execution_count": 78,
     "metadata": {},
     "output_type": "execute_result"
    }
   ],
   "source": [
    "arr10.dtype\n"
   ]
  },
  {
   "cell_type": "code",
   "execution_count": 80,
   "id": "eee0c7f6-c401-46da-8fd5-45a2359b1cb2",
   "metadata": {},
   "outputs": [
    {
     "data": {
      "text/plain": [
       "dtype('float64')"
      ]
     },
     "execution_count": 80,
     "metadata": {},
     "output_type": "execute_result"
    }
   ],
   "source": [
    "arr14.dtype"
   ]
  },
  {
   "cell_type": "code",
   "execution_count": 84,
   "id": "c75f1e9f-9b2f-4eff-b40c-08504139b161",
   "metadata": {},
   "outputs": [
    {
     "data": {
      "text/plain": [
       "range(0, 100)"
      ]
     },
     "execution_count": 84,
     "metadata": {},
     "output_type": "execute_result"
    }
   ],
   "source": [
    "alist=range(100)\n",
    "alist"
   ]
  },
  {
   "cell_type": "code",
   "execution_count": 88,
   "id": "2f0c8d32-51aa-4213-8a39-f2dba639d5b3",
   "metadata": {},
   "outputs": [
    {
     "data": {
      "text/plain": [
       "array([ 0,  1,  2,  3,  4,  5,  6,  7,  8,  9, 10, 11, 12, 13, 14, 15, 16,\n",
       "       17, 18, 19, 20, 21, 22, 23, 24, 25, 26, 27, 28, 29, 30, 31, 32, 33,\n",
       "       34, 35, 36, 37, 38, 39, 40, 41, 42, 43, 44, 45, 46, 47, 48, 49, 50,\n",
       "       51, 52, 53, 54, 55, 56, 57, 58, 59, 60, 61, 62, 63, 64, 65, 66, 67,\n",
       "       68, 69, 70, 71, 72, 73, 74, 75, 76, 77, 78, 79, 80, 81, 82, 83, 84,\n",
       "       85, 86, 87, 88, 89, 90, 91, 92, 93, 94, 95, 96, 97, 98, 99])"
      ]
     },
     "execution_count": 88,
     "metadata": {},
     "output_type": "execute_result"
    }
   ],
   "source": [
    "arr11=np.arange(100)\n",
    "arr11"
   ]
  },
  {
   "cell_type": "code",
   "execution_count": 90,
   "id": "c9772126-1fa7-4f3b-886c-83341734cee1",
   "metadata": {},
   "outputs": [],
   "source": [
    "import sys"
   ]
  },
  {
   "cell_type": "code",
   "execution_count": 94,
   "id": "30c9c365-4ea3-487e-bbbf-56d1772cc84a",
   "metadata": {},
   "outputs": [
    {
     "name": "stdout",
     "output_type": "stream",
     "text": [
      "2800\n",
      "400\n"
     ]
    }
   ],
   "source": [
    "print(sys.getsizeof(45)*len(alist))\n",
    "print(arr11.itemsize*arr11.size)"
   ]
  },
  {
   "cell_type": "code",
   "execution_count": 122,
   "id": "0675a465-3b9e-4642-a7d2-a96aed62e616",
   "metadata": {},
   "outputs": [],
   "source": [
    "import time"
   ]
  },
  {
   "cell_type": "code",
   "execution_count": 126,
   "id": "7151e4b7-793b-4796-81f2-1561514fc558",
   "metadata": {},
   "outputs": [
    {
     "ename": "TypeError",
     "evalue": "'float' object is not callable",
     "output_type": "error",
     "traceback": [
      "\u001b[1;31m---------------------------------------------------------------------------\u001b[0m",
      "\u001b[1;31mTypeError\u001b[0m                                 Traceback (most recent call last)",
      "Cell \u001b[1;32mIn[126], line 5\u001b[0m\n\u001b[0;32m      3\u001b[0m start_time\u001b[38;5;241m=\u001b[39m\u001b[38;5;28mfloat\u001b[39m(timeit\u001b[38;5;241m.\u001b[39mtimeit())\n\u001b[0;32m      4\u001b[0m c\u001b[38;5;241m=\u001b[39m[x\u001b[38;5;241m+\u001b[39my \u001b[38;5;28;01mfor\u001b[39;00m x,y \u001b[38;5;129;01min\u001b[39;00m \u001b[38;5;28mzip\u001b[39m (x,y)]\n\u001b[1;32m----> 5\u001b[0m \u001b[38;5;28mprint\u001b[39m(timeit\u001b[38;5;241m.\u001b[39mtimeit() \u001b[38;5;241m-\u001b[39m start_time)\n",
      "\u001b[1;31mTypeError\u001b[0m: 'float' object is not callable"
     ]
    }
   ],
   "source": [
    "x=range(100000)\n",
    "y=range(100000,200000)\n",
    "start_time=float(timeit.time())\n",
    "c=[x+y for x,y in zip (x,y)]\n",
    "print(timeit.time() - start_time)"
   ]
  },
  {
   "cell_type": "code",
   "execution_count": 134,
   "id": "aa333b83-3ffa-48cc-99e2-03d36328aa34",
   "metadata": {},
   "outputs": [
    {
     "ename": "TypeError",
     "evalue": "'float' object is not callable",
     "output_type": "error",
     "traceback": [
      "\u001b[1;31m---------------------------------------------------------------------------\u001b[0m",
      "\u001b[1;31mTypeError\u001b[0m                                 Traceback (most recent call last)",
      "Cell \u001b[1;32mIn[134], line 8\u001b[0m\n\u001b[0;32m      6\u001b[0m end_time\u001b[38;5;241m=\u001b[39mtime\u001b[38;5;241m.\u001b[39mtime()\n\u001b[0;32m      7\u001b[0m duration\u001b[38;5;241m=\u001b[39mend_time\u001b[38;5;241m-\u001b[39mstart_time\n\u001b[1;32m----> 8\u001b[0m \u001b[38;5;28mprint\u001b[39m(duration)\n",
      "\u001b[1;31mTypeError\u001b[0m: 'float' object is not callable"
     ]
    }
   ],
   "source": [
    "import time\n",
    "a=np.arange(100000)\n",
    "b=np.arange(100000,200000)\n",
    "start_time=time.time()\n",
    "c=a+b\n",
    "end_time=time.time()\n",
    "duration=end_time-start_time\n",
    "print(duration)"
   ]
  },
  {
   "cell_type": "code",
   "execution_count": 142,
   "id": "953c27c8-39e4-492e-b55e-db2432f98b4b",
   "metadata": {},
   "outputs": [
    {
     "data": {
      "text/plain": [
       "array([ 8,  9, 10, 11])"
      ]
     },
     "execution_count": 142,
     "metadata": {},
     "output_type": "execute_result"
    }
   ],
   "source": [
    "arr=np.arange(24).reshape(6,4)\n",
    "arr\n",
    "arr[2]\n",
    "arr"
   ]
  },
  {
   "cell_type": "code",
   "execution_count": 173,
   "id": "e03e9991-d883-4122-9178-c288dda08db0",
   "metadata": {},
   "outputs": [
    {
     "ename": "TypeError",
     "evalue": "'float' object is not callable",
     "output_type": "error",
     "traceback": [
      "\u001b[1;31m---------------------------------------------------------------------------\u001b[0m",
      "\u001b[1;31mTypeError\u001b[0m                                 Traceback (most recent call last)",
      "Cell \u001b[1;32mIn[173], line 4\u001b[0m\n\u001b[0;32m      2\u001b[0m num2\u001b[38;5;241m=\u001b[39mnp\u001b[38;5;241m.\u001b[39marange(\u001b[38;5;241m7\u001b[39m,\u001b[38;5;241m13\u001b[39m)\u001b[38;5;241m.\u001b[39mreshape(\u001b[38;5;241m3\u001b[39m,\u001b[38;5;241m2\u001b[39m)\n\u001b[0;32m      3\u001b[0m num3 \u001b[38;5;241m=\u001b[39m num1\u001b[38;5;241m.\u001b[39mdot(num2)  \u001b[38;5;66;03m# The result is already a NumPy array\u001b[39;00m\n\u001b[1;32m----> 4\u001b[0m \u001b[38;5;28mprint\u001b[39m(num3)\n\u001b[0;32m      5\u001b[0m \u001b[38;5;28mprint\u001b[39m(num3\u001b[38;5;241m.\u001b[39mmin())\n",
      "\u001b[1;31mTypeError\u001b[0m: 'float' object is not callable"
     ]
    }
   ],
   "source": [
    "num1=np.arange(6).reshape(2,3)\n",
    "num2=np.arange(7,13).reshape(3,2)\n",
    "num3 = num1.dot(num2)  # The result is already a NumPy array\n",
    "print(num3)\n",
    "print(num3.min())"
   ]
  },
  {
   "cell_type": "code",
   "execution_count": 175,
   "id": "cab36832-8a9d-486b-bf7f-9f120cc4bfab",
   "metadata": {},
   "outputs": [
    {
     "data": {
      "text/plain": [
       "array([[ 0.        ,  0.84147098,  0.90929743],\n",
       "       [ 0.14112001, -0.7568025 , -0.95892427]])"
      ]
     },
     "execution_count": 175,
     "metadata": {},
     "output_type": "execute_result"
    }
   ],
   "source": [
    "np.sin(num1)"
   ]
  },
  {
   "cell_type": "code",
   "execution_count": 177,
   "id": "634cde8f-7c19-467a-a520-172a132c5c3f",
   "metadata": {},
   "outputs": [
    {
     "data": {
      "text/plain": [
       "7"
      ]
     },
     "execution_count": 177,
     "metadata": {},
     "output_type": "execute_result"
    }
   ],
   "source": [
    "num2.min()"
   ]
  },
  {
   "cell_type": "code",
   "execution_count": 179,
   "id": "bf793067-79dd-4af7-94e1-ba7fa82f778e",
   "metadata": {},
   "outputs": [
    {
     "data": {
      "text/plain": [
       "array([7, 8])"
      ]
     },
     "execution_count": 179,
     "metadata": {},
     "output_type": "execute_result"
    }
   ],
   "source": [
    "num2.min(axis=0) # give the mim column wise "
   ]
  },
  {
   "cell_type": "code",
   "execution_count": 181,
   "id": "16eb2f1f-e776-4c1e-945f-c6348f79606d",
   "metadata": {},
   "outputs": [
    {
     "data": {
      "text/plain": [
       "array([ 7,  9, 11])"
      ]
     },
     "execution_count": 181,
     "metadata": {},
     "output_type": "execute_result"
    }
   ],
   "source": [
    "num2.min(axis=1) # give the min row wise"
   ]
  },
  {
   "cell_type": "code",
   "execution_count": 183,
   "id": "545a49e1-3af4-40ee-a4f8-4818c553d8bc",
   "metadata": {},
   "outputs": [
    {
     "data": {
      "text/plain": [
       "1.707825127659933"
      ]
     },
     "execution_count": 183,
     "metadata": {},
     "output_type": "execute_result"
    }
   ],
   "source": [
    "num2.std()"
   ]
  },
  {
   "cell_type": "code",
   "execution_count": 185,
   "id": "fc5401c4-1edb-481c-a6b9-38deb859a2bb",
   "metadata": {},
   "outputs": [
    {
     "data": {
      "text/plain": [
       "array([[   0.87144798,   -6.79971146],\n",
       "       [  -0.45231566,    0.64836083],\n",
       "       [-225.95084645,   -0.63585993]])"
      ]
     },
     "execution_count": 185,
     "metadata": {},
     "output_type": "execute_result"
    }
   ],
   "source": [
    "np.tan(num2)"
   ]
  },
  {
   "cell_type": "code",
   "execution_count": 191,
   "id": "04f70910-3be4-42cc-976c-6256f3793ac9",
   "metadata": {},
   "outputs": [
    {
     "data": {
      "text/plain": [
       "array([[89, 73, 85, 46, 74],\n",
       "       [47, 85, 46, 67, 52],\n",
       "       [50, 48, 85, 63, 59],\n",
       "       [79, 86, 64, 52, 71],\n",
       "       [77, 59, 52, 55, 82],\n",
       "       [61, 76, 68, 55, 49]])"
      ]
     },
     "execution_count": 191,
     "metadata": {},
     "output_type": "execute_result"
    }
   ],
   "source": [
    "arr=np.random.randint(low=45,high=90,size=30).reshape(6,5)\n",
    "arr"
   ]
  },
  {
   "cell_type": "code",
   "execution_count": 210,
   "id": "0416b596-3b2f-4881-9905-3bbc7aba33ba",
   "metadata": {},
   "outputs": [
    {
     "data": {
      "text/plain": [
       "array([[False, False, False, False, False],\n",
       "       [False, False, False, False, False],\n",
       "       [False,  True, False, False, False],\n",
       "       [False, False, False, False, False],\n",
       "       [False, False, False, False, False],\n",
       "       [False, False, False, False, False]])"
      ]
     },
     "execution_count": 210,
     "metadata": {},
     "output_type": "execute_result"
    }
   ],
   "source": [
    "#i want to extract iterger which are larger than 60 then \n",
    "arr%6==0"
   ]
  },
  {
   "cell_type": "code",
   "execution_count": 208,
   "id": "e6cf7312-7bc4-40f9-999d-1e33de119e5c",
   "metadata": {},
   "outputs": [
    {
     "data": {
      "text/plain": [
       "array([63])"
      ]
     },
     "execution_count": 208,
     "metadata": {},
     "output_type": "execute_result"
    }
   ],
   "source": [
    "arr[(arr>60) & (arr%3==0) & (arr<90)]"
   ]
  },
  {
   "cell_type": "code",
   "execution_count": 212,
   "id": "19b0074e-323b-4e43-b8d7-a2ea13c29b3a",
   "metadata": {},
   "outputs": [],
   "source": [
    "import matplotlib.pyplot as plt\n"
   ]
  },
  {
   "cell_type": "code",
   "execution_count": 220,
   "id": "82e12fad-afd9-4b23-8d2e-6bda371a5ef4",
   "metadata": {},
   "outputs": [],
   "source": [
    "x=np.linspace(-21,21,100)\n",
    "y=np.cos(x)"
   ]
  },
  {
   "cell_type": "code",
   "execution_count": 222,
   "id": "3f6d58d5-6ffd-48f5-bfa1-939557eb37d3",
   "metadata": {},
   "outputs": [
    {
     "data": {
      "text/plain": [
       "[<matplotlib.lines.Line2D at 0x20665fece90>]"
      ]
     },
     "execution_count": 222,
     "metadata": {},
     "output_type": "execute_result"
    },
    {
     "data": {
      "image/png": "[encoded data removed]",
      "text/plain": [
       "<Figure size 640x480 with 1 Axes>"
      ]
     },
     "metadata": {},
     "output_type": "display_data"
    }
   ],
   "source": [
    "plt.plot(x,y)"
   ]
  },
  {
   "cell_type": "code",
   "execution_count": null,
   "id": "47bdef48-8561-4afa-a306-1c1a71a2a2ec",
   "metadata": {},
   "outputs": [],
   "source": []
  }
 ],
 "metadata": {
  "kernelspec": {
   "display_name": "Python 3 (ipykernel)",
   "language": "python",
   "name": "python3"
  },
  "language_info": {
   "codemirror_mode": {
    "name": "ipython",
    "version": 3
   },
   "file_extension": ".py",
   "mimetype": "text/x-python",
   "name": "python",
   "nbconvert_exporter": "python",
   "pygments_lexer": "ipython3",
   "version": "3.12.4"
  }
 },
 "nbformat": 4,
 "nbformat_minor": 5
}
