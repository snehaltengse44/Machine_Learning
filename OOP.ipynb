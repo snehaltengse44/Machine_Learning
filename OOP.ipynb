{
 "cells": [
  {
   "cell_type": "code",
   "execution_count": 53,
   "id": "bd6b036c-113b-40cf-abc9-e579833163e8",
   "metadata": {},
   "outputs": [
    {
     "ename": "AttributeError",
     "evalue": "'Customer' object has no attribute 'add'",
     "output_type": "error",
     "traceback": [
      "\u001b[1;31m---------------------------------------------------------------------------\u001b[0m",
      "\u001b[1;31mAttributeError\u001b[0m                            Traceback (most recent call last)",
      "Cell \u001b[1;32mIn[53], line 19\u001b[0m\n\u001b[0;32m     17\u001b[0m add\u001b[38;5;241m=\u001b[39mAddress(\u001b[38;5;124m\"\u001b[39m\u001b[38;5;124mkolkata\u001b[39m\u001b[38;5;124m\"\u001b[39m,\u001b[38;5;241m657889\u001b[39m,\u001b[38;5;124m\"\u001b[39m\u001b[38;5;124mWB\u001b[39m\u001b[38;5;124m\"\u001b[39m)\n\u001b[0;32m     18\u001b[0m cust1\u001b[38;5;241m=\u001b[39mCustomer(\u001b[38;5;124m\"\u001b[39m\u001b[38;5;124msnehal\u001b[39m\u001b[38;5;124m\"\u001b[39m,\u001b[38;5;124m\"\u001b[39m\u001b[38;5;124mfemale\u001b[39m\u001b[38;5;124m\"\u001b[39m,add)\n\u001b[1;32m---> 19\u001b[0m \u001b[38;5;28mprint\u001b[39m(cust1\u001b[38;5;241m.\u001b[39madd\u001b[38;5;241m.\u001b[39mpincode)\n",
      "\u001b[1;31mAttributeError\u001b[0m: 'Customer' object has no attribute 'add'"
     ]
    }
   ],
   "source": [
    "class Customer:\n",
    "    def __init__(self,name,gender,address):\n",
    "        self.name=name\n",
    "        self.gender=gender\n",
    "        self.address=address\n",
    "\n",
    "class Address:\n",
    "    def __init__(self,city,pincode,state):\n",
    "        self.city=city\n",
    "        self.pincode=pincode\n",
    "        self.state=state\n",
    "    def change_address(self,new_city,new_pincode,new_state):\n",
    "        self.city=new_city\n",
    "        self.pincode=new_pincode\n",
    "        self.state=new_state\n",
    "        \n",
    "add=Address(\"kolkata\",657889,\"WB\")\n",
    "cust1=Customer(\"snehal\",\"female\",add)\n",
    "print(cust1.add.pincode)"
   ]
  },
  {
   "cell_type": "code",
   "execution_count": 55,
   "id": "9dd4a091-0e9d-4572-b24b-0739b3c041d4",
   "metadata": {},
   "outputs": [
    {
     "name": "stdout",
     "output_type": "stream",
     "text": [
      "Enroll\n",
      "Login\n"
     ]
    }
   ],
   "source": [
    "class user:\n",
    "    def login(self):\n",
    "        print(\"Login\")\n",
    "    def register (self):\n",
    "        print(\"Register\")\n",
    "\n",
    "class student(user):\n",
    "    def enroll(self):\n",
    "        print(\"Enroll\")\n",
    "\n",
    "    def register(self):\n",
    "        print(\"Register\")\n",
    "\n",
    "stu=student()\n",
    "stu.enroll()\n",
    "stu.login()\n",
    "user1=user()\n",
    "\n"
   ]
  },
  {
   "cell_type": "code",
   "execution_count": 65,
   "id": "55fffa31-2342-403a-9235-9c8b0483b364",
   "metadata": {},
   "outputs": [
    {
     "ename": "TypeError",
     "evalue": "object.__init__() takes exactly one argument (the instance to initialize)",
     "output_type": "error",
     "traceback": [
      "\u001b[1;31m---------------------------------------------------------------------------\u001b[0m",
      "\u001b[1;31mTypeError\u001b[0m                                 Traceback (most recent call last)",
      "Cell \u001b[1;32mIn[65], line 16\u001b[0m\n\u001b[0;32m     12\u001b[0m         \u001b[38;5;28mself\u001b[39m\u001b[38;5;241m.\u001b[39mram\u001b[38;5;241m=\u001b[39mram\n\u001b[0;32m     13\u001b[0m         \u001b[38;5;66;03m#self.brand=brand\u001b[39;00m\n\u001b[0;32m     14\u001b[0m         \u001b[38;5;66;03m#self.price=price\u001b[39;00m\n\u001b[1;32m---> 16\u001b[0m p1\u001b[38;5;241m=\u001b[39mSmartphone(\u001b[38;5;241m200000\u001b[39m,\u001b[38;5;124m\"\u001b[39m\u001b[38;5;124miqoo\u001b[39m\u001b[38;5;124m\"\u001b[39m,\u001b[38;5;241m64\u001b[39m,\u001b[38;5;241m6\u001b[39m)\n\u001b[0;32m     17\u001b[0m \u001b[38;5;28mprint\u001b[39m(p1\u001b[38;5;241m.\u001b[39mbrand)\n",
      "Cell \u001b[1;32mIn[65], line 10\u001b[0m, in \u001b[0;36mSmartphone.__init__\u001b[1;34m(self, price, brand, camera, ram)\u001b[0m\n\u001b[0;32m      9\u001b[0m \u001b[38;5;28;01mdef\u001b[39;00m \u001b[38;5;21m__init__\u001b[39m(\u001b[38;5;28mself\u001b[39m,price,brand,camera,ram):\n\u001b[1;32m---> 10\u001b[0m     \u001b[38;5;28msuper\u001b[39m()\u001b[38;5;241m.\u001b[39m\u001b[38;5;21m__init__\u001b[39m(price)\n\u001b[0;32m     11\u001b[0m     \u001b[38;5;28mself\u001b[39m\u001b[38;5;241m.\u001b[39mcamera\u001b[38;5;241m=\u001b[39mcamera\n\u001b[0;32m     12\u001b[0m     \u001b[38;5;28mself\u001b[39m\u001b[38;5;241m.\u001b[39mram\u001b[38;5;241m=\u001b[39mram\n",
      "\u001b[1;31mTypeError\u001b[0m: object.__init__() takes exactly one argument (the instance to initialize)"
     ]
    }
   ],
   "source": [
    "class Phone:\n",
    "    def __init__(self,price,brand):\n",
    "        self.price=price\n",
    "        self.brand=brand\n",
    "    def buy(self):\n",
    "        print(\"i am in phone class\")\n",
    "\n",
    "class Smartphone:\n",
    "    def __init__(self,price,brand,camera,ram):\n",
    "        super().__init__(price,brand)\n",
    "        self.camera=camera\n",
    "        self.ram=ram\n",
    "        #self.brand=brand\n",
    "        #self.price=price\n",
    "\n",
    "p1=Smartphone(200000,\"iqoo\",64,6)\n",
    "print(p1.brand)\n",
    "        "
   ]
  },
  {
   "cell_type": "code",
   "execution_count": null,
   "id": "19a1e241-d7a5-40c3-ab98-25001f3de0b4",
   "metadata": {},
   "outputs": [],
   "source": []
  },
  {
   "cell_type": "code",
   "execution_count": null,
   "id": "f92807af-2b08-4c88-9921-18ec8878fcab",
   "metadata": {},
   "outputs": [],
   "source": []
  }
 ],
 "metadata": {
  "kernelspec": {
   "display_name": "Python 3 (ipykernel)",
   "language": "python",
   "name": "python3"
  },
  "language_info": {
   "codemirror_mode": {
    "name": "ipython",
    "version": 3
   },
   "file_extension": ".py",
   "mimetype": "text/x-python",
   "name": "python",
   "nbconvert_exporter": "python",
   "pygments_lexer": "ipython3",
   "version": "3.12.4"
  }
 },
 "nbformat": 4,
 "nbformat_minor": 5
}
