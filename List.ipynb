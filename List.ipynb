{
 "cells": [
  {
   "cell_type": "code",
   "execution_count": 27,
   "id": "98078250-7439-4955-92ac-8eb2ae647135",
   "metadata": {},
   "outputs": [
    {
     "name": "stdout",
     "output_type": "stream",
     "text": [
      "[1, 2, 3, 4, 5, 'hello', 'g', 'o', 'a']\n"
     ]
    }
   ],
   "source": [
    "l1=[1,2,3,4,5]\n",
    "l1.append(\"hello\")\n",
    "l1.extend(\"goa\")\n",
    "print(l1)\n",
    "   "
   ]
  },
  {
   "cell_type": "code",
   "execution_count": 64,
   "id": "2db38725-bcc3-4570-be1e-a3833e38a681",
   "metadata": {},
   "outputs": [
    {
     "name": "stdout",
     "output_type": "stream",
     "text": [
      "['my', 'name', 'is', 'snehal']\n"
     ]
    }
   ],
   "source": [
    "l2=\"my name is snehal \"\n",
    "print(l2.split())"
   ]
  },
  {
   "cell_type": "code",
   "execution_count": 70,
   "id": "bc1d7ebf-62e2-4562-8f96-465d88846574",
   "metadata": {},
   "outputs": [
    {
     "name": "stdout",
     "output_type": "stream",
     "text": [
      "My\n",
      "Name\n",
      "Is\n",
      "Snehal\n",
      "['My', 'Name', 'Is', 'Snehal']\n",
      "My Name Is Snehal\n"
     ]
    }
   ],
   "source": [
    "l3=[]    \n",
    "for i in l2.split():\n",
    "    print(i.capitalize())\n",
    "    l3.append(i.capitalize())\n",
    "print(l3)\n",
    "print(\" \".join(l3))"
   ]
  },
  {
   "cell_type": "code",
   "execution_count": 94,
   "id": "41ecda87-97ec-4004-aa71-e91092876451",
   "metadata": {},
   "outputs": [
    {
     "ename": "SyntaxError",
     "evalue": "invalid syntax (3421853815.py, line 4)",
     "output_type": "error",
     "traceback": [
      "\u001b[1;36m  Cell \u001b[1;32mIn[94], line 4\u001b[1;36m\u001b[0m\n\u001b[1;33m    print(l4[:l4.index(@)])\u001b[0m\n\u001b[1;37m                       ^\u001b[0m\n\u001b[1;31mSyntaxError\u001b[0m\u001b[1;31m:\u001b[0m invalid syntax\n"
     ]
    }
   ],
   "source": [
    "l4=[\"abc@gmail.com\"]\n",
    "\n",
    "\n",
    "print(l4[:l4.index(@)])"
   ]
  },
  {
   "cell_type": "code",
   "execution_count": 84,
   "id": "ec5ecd6d-913b-4964-9b1a-3a1fdba9a8a4",
   "metadata": {},
   "outputs": [
    {
     "name": "stdout",
     "output_type": "stream",
     "text": [
      "['a', 'b', 'c']\n",
      "abc\n"
     ]
    }
   ],
   "source": [
    "l5=[]\n",
    "# to fetcg the whole letter befor @\n",
    "for i in range(3):\n",
    "    l5.append(l4[i])\n",
    "\n",
    "print(l5)\n",
    "print(\"\".join(l5))"
   ]
  },
  {
   "cell_type": "code",
   "execution_count": 90,
   "id": "71a8c8fc-60d2-4acc-8fc7-f47fb5206500",
   "metadata": {},
   "outputs": [
    {
     "ename": "SyntaxError",
     "evalue": "invalid syntax (157149560.py, line 1)",
     "output_type": "error",
     "traceback": [
      "\u001b[1;36m  Cell \u001b[1;32mIn[90], line 1\u001b[1;36m\u001b[0m\n\u001b[1;33m    print(l4[:l4.find(@)])\u001b[0m\n\u001b[1;37m                      ^\u001b[0m\n\u001b[1;31mSyntaxError\u001b[0m\u001b[1;31m:\u001b[0m invalid syntax\n"
     ]
    }
   ],
   "source": [
    "print(l4[:l4.index(@)])"
   ]
  },
  {
   "cell_type": "code",
   "execution_count": 104,
   "id": "5e77fa36-e399-4aa2-a103-8e32e30a674f",
   "metadata": {},
   "outputs": [
    {
     "name": "stdout",
     "output_type": "stream",
     "text": [
      "[1, 2, 3, 4, 5]\n"
     ]
    }
   ],
   "source": [
    "l5=[1,1,1,2,3,4,4,4,5]\n",
    "# to remove the duplicates \n",
    "l6=[]\n",
    "for i in l5:\n",
    "    if i not in l6:\n",
    "        l6.append(i)\n",
    "\n",
    "print(l6)"
   ]
  },
  {
   "cell_type": "code",
   "execution_count": null,
   "id": "d1c82f1c-65e5-483c-8ab2-176bd693329b",
   "metadata": {},
   "outputs": [],
   "source": []
  }
 ],
 "metadata": {
  "kernelspec": {
   "display_name": "Python 3 (ipykernel)",
   "language": "python",
   "name": "python3"
  },
  "language_info": {
   "codemirror_mode": {
    "name": "ipython",
    "version": 3
   },
   "file_extension": ".py",
   "mimetype": "text/x-python",
   "name": "python",
   "nbconvert_exporter": "python",
   "pygments_lexer": "ipython3",
   "version": "3.12.4"
  }
 },
 "nbformat": 4,
 "nbformat_minor": 5
}
