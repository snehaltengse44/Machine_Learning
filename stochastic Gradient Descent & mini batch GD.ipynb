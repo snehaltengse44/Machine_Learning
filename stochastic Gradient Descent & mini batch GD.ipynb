{
 "cells": [
  {
   "cell_type": "code",
   "execution_count": 11,
   "id": "d6d90e23-b3a7-4ad8-aa6b-888cdc88ea13",
   "metadata": {},
   "outputs": [],
   "source": [
    "import numpy as np\n",
    "import pandas as pd\n",
    "import random"
   ]
  },
  {
   "cell_type": "code",
   "execution_count": 13,
   "id": "b45b28a8-4b76-4f23-8026-b5719b85a5bf",
   "metadata": {},
   "outputs": [],
   "source": [
    "data=pd.read_csv(\"LinearRegressionWithMultipalRegression(homeprice).csv\")"
   ]
  },
  {
   "cell_type": "code",
   "execution_count": 15,
   "id": "aa98461b-e4f1-491a-bbef-17bc308cc436",
   "metadata": {},
   "outputs": [],
   "source": [
    "x=data.iloc[:,0:2].values\n",
    "y=data.iloc[:,3].values"
   ]
  },
  {
   "cell_type": "code",
   "execution_count": 17,
   "id": "0943db89-947e-4894-ab77-014e0706642c",
   "metadata": {},
   "outputs": [],
   "source": [
    "from sklearn.model_selection import train_test_split\n",
    "x_train,x_test,y_train,y_test=train_test_split(x,y,test_size=0.2,random_state=2)"
   ]
  },
  {
   "cell_type": "code",
   "execution_count": 25,
   "id": "77297590-7f7a-47d1-b4db-e6b13119211d",
   "metadata": {},
   "outputs": [],
   "source": [
    "class SDRegressor:\n",
    "    def _init_ (self,learning_rate=0.1,epochs=50 ):\n",
    "        self.lr=learning_rate\n",
    "        self.coef_=None\n",
    "        self.intercept=None\n",
    "        self.epochs=epochs\n",
    "\n",
    "    def fit(self,x_train,y_train,learning_rate=0.1):\n",
    "        for i in range(self.epochs):\n",
    "            for j in range(x_train.shape[0]):\n",
    "                ind=np.random.randint(0,x_train.shape[0])\n",
    "                y=np.dot(x_train[ind],self.coef_)\n",
    "                slope_intercept=-2*(y_train[ind]-y)\n",
    "                self.intercept=self.intercept-self.lr*slope_intercept\n",
    "                slope_coef=-2*x_train[ind]*(y_train[ind]-y)\n",
    "                self.coef_=self.coef_-self.lr*slope_coef\n",
    "                \n",
    "        \n",
    "        print(self.intercept,self.coef_)         \n",
    "    \n",
    "    def predict(self,x_test):\n",
    "        return np.dot(x_test,self.coef_)+self.intercept"
   ]
  },
  {
   "cell_type": "code",
   "execution_count": 27,
   "id": "a580e1ca-c789-4467-9843-e356861205e6",
   "metadata": {},
   "outputs": [],
   "source": [
    "# MINI Batch gradient descent "
   ]
  },
  {
   "cell_type": "code",
   "execution_count": 33,
   "id": "75c461a5-5d9a-45ba-a3a5-708f41d09ed8",
   "metadata": {},
   "outputs": [],
   "source": [
    "class MGDRegressor:\n",
    "    def _init_ (self,batch_size,learning_rate=0.1,epochs=50 ):\n",
    "        self.lr=learning_rate\n",
    "        self.coef_=None\n",
    "        self.intercept=None\n",
    "        self.batch_size=batch_size\n",
    "        self.epochs=epochs\n",
    "\n",
    "    def fit(self,x_train,y_train,learning_rate=0.1):\n",
    "        # to find intercept\n",
    "        self.intercept=0;\n",
    "        self.coef_=np.ones(x_train.shape[1])\n",
    "        for i in range(self.epochs):\n",
    "            for j in range(x_train.shape[0]/self.batch_size):\n",
    "                indx=random.sample(range(0,X_train[0]),self.batch_size)\n",
    "                y=self.intercept+(self.coef_,X_train[indx])\n",
    "                slope_intercept=-2*np.mean(y_train[ind]-y)\n",
    "                self.intercept=self.intercept-(self.lr*slope_intercept)\n",
    "                slope_coef=-2*np.dot(x_train[indx],(y_train[indx]-y))\n",
    "                self.coef_=self.coef_-self.lr*slope_coef\n",
    "        print(self.intercept,self.coef_)         \n",
    "    \n",
    "    def predict(self,x_test):\n",
    "        return np.dot(x_test,self.coef_)+self.intercept"
   ]
  },
  {
   "cell_type": "code",
   "execution_count": null,
   "id": "f9283ebb-b12f-464c-8caa-b8a7425c3769",
   "metadata": {},
   "outputs": [],
   "source": []
  }
 ],
 "metadata": {
  "kernelspec": {
   "display_name": "Python 3 (ipykernel)",
   "language": "python",
   "name": "python3"
  },
  "language_info": {
   "codemirror_mode": {
    "name": "ipython",
    "version": 3
   },
   "file_extension": ".py",
   "mimetype": "text/x-python",
   "name": "python",
   "nbconvert_exporter": "python",
   "pygments_lexer": "ipython3",
   "version": "3.12.4"
  }
 },
 "nbformat": 4,
 "nbformat_minor": 5
}
